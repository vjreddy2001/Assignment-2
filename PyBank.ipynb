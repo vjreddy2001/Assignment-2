{
 "cells": [
  {
   "cell_type": "code",
   "execution_count": 3,
   "id": "36aa3a61-60c6-47dd-a49f-7bf111d275c4",
   "metadata": {},
   "outputs": [],
   "source": [
    "import pandas as pd\n",
    "import numpy as np\n",
    "import numpy as npf\n",
    "import csv\n"
   ]
  },
  {
   "cell_type": "code",
   "execution_count": 6,
   "id": "2a7299e7-ef25-487c-a486-d50071df069d",
   "metadata": {},
   "outputs": [],
   "source": [
    "# Files to load and output \n",
    "revenue_read = pd.read_csv(\"Resources/budget_data.csv\")"
   ]
  },
  {
   "cell_type": "code",
   "execution_count": 7,
   "id": "f2cb68d8-8694-4eb1-897a-fb640b39dfe6",
   "metadata": {},
   "outputs": [
    {
     "data": {
      "text/html": [
       "<div>\n",
       "<style scoped>\n",
       "    .dataframe tbody tr th:only-of-type {\n",
       "        vertical-align: middle;\n",
       "    }\n",
       "\n",
       "    .dataframe tbody tr th {\n",
       "        vertical-align: top;\n",
       "    }\n",
       "\n",
       "    .dataframe thead th {\n",
       "        text-align: right;\n",
       "    }\n",
       "</style>\n",
       "<table border=\"1\" class=\"dataframe\">\n",
       "  <thead>\n",
       "    <tr style=\"text-align: right;\">\n",
       "      <th></th>\n",
       "      <th>Date</th>\n",
       "      <th>Profit/Losses</th>\n",
       "    </tr>\n",
       "  </thead>\n",
       "  <tbody>\n",
       "    <tr>\n",
       "      <th>0</th>\n",
       "      <td>Jan-2010</td>\n",
       "      <td>867884</td>\n",
       "    </tr>\n",
       "    <tr>\n",
       "      <th>1</th>\n",
       "      <td>Feb-2010</td>\n",
       "      <td>984655</td>\n",
       "    </tr>\n",
       "    <tr>\n",
       "      <th>2</th>\n",
       "      <td>Mar-2010</td>\n",
       "      <td>322013</td>\n",
       "    </tr>\n",
       "    <tr>\n",
       "      <th>3</th>\n",
       "      <td>Apr-2010</td>\n",
       "      <td>-69417</td>\n",
       "    </tr>\n",
       "    <tr>\n",
       "      <th>4</th>\n",
       "      <td>May-2010</td>\n",
       "      <td>310503</td>\n",
       "    </tr>\n",
       "  </tbody>\n",
       "</table>\n",
       "</div>"
      ],
      "text/plain": [
       "       Date  Profit/Losses\n",
       "0  Jan-2010         867884\n",
       "1  Feb-2010         984655\n",
       "2  Mar-2010         322013\n",
       "3  Apr-2010         -69417\n",
       "4  May-2010         310503"
      ]
     },
     "execution_count": 7,
     "metadata": {},
     "output_type": "execute_result"
    }
   ],
   "source": [
    "# Disply data\n",
    "revenue_read.head()"
   ]
  },
  {
   "cell_type": "code",
   "execution_count": 9,
   "id": "6293bb4e-2945-45ba-9eec-a6f134bd1b68",
   "metadata": {},
   "outputs": [],
   "source": [
    "# Track various financial parameters\n",
    "revenue_row_count = -1\n",
    "revenue_row_count = len(revenue_read)\n",
    "#print(f\"Total Number of Months are\", revenue_row_count)"
   ]
  },
  {
   "cell_type": "code",
   "execution_count": 10,
   "id": "40bd057d-dc93-4482-bcf2-5cb3125fcef4",
   "metadata": {},
   "outputs": [],
   "source": [
    "# Read the csv and convert it into a list of dictionaries\n",
    "\n",
    "i=0\n",
    "profit = 0\n",
    "profit_tot = 0\n",
    "while i < revenue_row_count:\n",
    "    profit = revenue_read.iloc[i,1]\n",
    "    profit_tot += profit\n",
    "    i += 1\n",
    "#print(f\"Sum Total of profit and losses is $\", profit_tot)\n"
   ]
  },
  {
   "cell_type": "code",
   "execution_count": 12,
   "id": "6a4bca52-470c-4790-8489-96011307d3f0",
   "metadata": {},
   "outputs": [],
   "source": [
    "# Locating the profit from the first record\n",
    "first_mth_profit = 0\n",
    "first_mth_profit = revenue_read.iloc[0,1]\n",
    "#first_mth_profit"
   ]
  },
  {
   "cell_type": "code",
   "execution_count": 13,
   "id": "a3580cfd-6dd4-4f84-9d75-355809ce50c3",
   "metadata": {},
   "outputs": [],
   "source": [
    "# Locating the profit from the last record\n",
    "last_mth_profit = 0\n",
    "last_mth_profit = revenue_read.iloc[(revenue_row_count-1),1]\n",
    "#last_mth_profit"
   ]
  },
  {
   "cell_type": "code",
   "execution_count": 14,
   "id": "a781bde4-fb98-42b0-99e2-661606b91335",
   "metadata": {},
   "outputs": [],
   "source": [
    "# Calculating change in the profit \n",
    "change_in_profit = last_mth_profit - first_mth_profit\n",
    "#change_in_profit"
   ]
  },
  {
   "cell_type": "code",
   "execution_count": 15,
   "id": "eb120993-054c-40ab-bbc3-5d25698687ba",
   "metadata": {},
   "outputs": [],
   "source": [
    "#Calculating Rate of Change in profit\n",
    "rate_of_change = change_in_profit / (revenue_row_count -1)\n",
    "#print(f\"The Rate of change in profit/losses is \", round(rate_of_change,2))"
   ]
  },
  {
   "cell_type": "code",
   "execution_count": 16,
   "id": "92ec3f81-ea86-4d1f-86b6-9f393a01ec3a",
   "metadata": {},
   "outputs": [],
   "source": [
    "#Calculating the gratest increase in the profit and greatest decrease in the profit\n",
    "\n",
    "month_changes = []\n",
    "change = 0\n",
    "i = 1\n",
    "\n",
    "while i < revenue_row_count:\n",
    "    change = revenue_read.iloc[i,1] - revenue_read.iloc[i-1,1]\n",
    "    month_changes.append(change)\n",
    "    i += 1    \n",
    "#print(f\"Greatest Increase in profit is \", max(month_changes))\n",
    "#print(f\"Greatest Decrease in profit is \", min(month_changes))"
   ]
  },
  {
   "cell_type": "code",
   "execution_count": 17,
   "id": "e9cdfc9c-fcf6-4449-b0aa-8ef15a24587d",
   "metadata": {},
   "outputs": [],
   "source": [
    "#Extracting the month and year in which the greatest profit occured \n",
    "date_max = revenue_read[revenue_read['Profit/Losses'] == revenue_read['Profit/Losses'].max()]\n",
    "month_max = date_max.iloc[0,0]"
   ]
  },
  {
   "cell_type": "code",
   "execution_count": 18,
   "id": "013bd264-e23a-4e77-9447-948b909123c6",
   "metadata": {},
   "outputs": [],
   "source": [
    "# Extracting the month and year in which the lowest profit occured \n",
    "date_min = revenue_read[revenue_read['Profit/Losses'] == revenue_read['Profit/Losses'].min()]\n",
    "month_min = date_min.iloc[0,0]"
   ]
  },
  {
   "cell_type": "code",
   "execution_count": 19,
   "id": "4933cdd1-dde6-4ae4-9fcc-70b8ec187486",
   "metadata": {},
   "outputs": [
    {
     "name": "stdout",
     "output_type": "stream",
     "text": [
      "Financial Analysis\n",
      "-------------------------\n",
      "Total Months: 86\n",
      "Total Profit/losses for the entire period is $ 38382578\n",
      "Average Change: $ -2315.12\n",
      "Greatest Increase in Profits of $ 1926159 was in  Feb-2012\n",
      "Greatest Decrease in Profits: $ -2196167 was in  Sep-2013\n"
     ]
    }
   ],
   "source": [
    "# Displaying the results\n",
    "\n",
    "print(f\"Financial Analysis\")\n",
    "print(f\"-------------------------\")\n",
    "print(\"Total Months:\", revenue_row_count)\n",
    "print(\"Total Profit/losses for the entire period is $\", profit_tot) \n",
    "print(\"Average Change: $\", round(rate_of_change,2))\n",
    "print(f\"Greatest Increase in Profits of $\", max(month_changes),\"was in \", month_max)\n",
    "print(f\"Greatest Decrease in Profits: $\", min(month_changes), \"was in \", month_min)\n"
   ]
  },
  {
   "cell_type": "code",
   "execution_count": 20,
   "id": "73ba885d-97f8-4f62-bd1a-8eb5e7897907",
   "metadata": {},
   "outputs": [],
   "source": [
    "# Exporting the results to text file called \"FinancialAnalysis.txt\"\n",
    "\n",
    "financial_Analysis = open('FinancialAnalysis.txt','w')\n",
    "financial_Analysis.write(f\"Financial Analysis \\n\")\n",
    "financial_Analysis.write(f\"------------------------- \\n\")\n",
    "financial_Analysis.write(f\"Total Months: {revenue_row_count} \\n\")\n",
    "financial_Analysis.write(f\"Total Profit/losses for the entire period: $ {profit_tot} \\n\") \n",
    "financial_Analysis.write(f\"Average Change: $ {round(rate_of_change,2)} \\n\")\n",
    "financial_Analysis.write(f\"Greatest Increase in Profits: $ {max(month_changes)} was in {month_max} \\n\")\n",
    "financial_Analysis.write(f\"Greatest Decrease in Profits: $ {min(month_changes)} was in {month_min}\")\n",
    "financial_Analysis.close()"
   ]
  },
  {
   "cell_type": "code",
   "execution_count": null,
   "id": "9aaeb1ab-3c2a-4383-af6a-2dfad6e4f0d9",
   "metadata": {},
   "outputs": [],
   "source": []
  }
 ],
 "metadata": {
  "kernelspec": {
   "display_name": "Python 3",
   "language": "python",
   "name": "python3"
  },
  "language_info": {
   "codemirror_mode": {
    "name": "ipython",
    "version": 3
   },
   "file_extension": ".py",
   "mimetype": "text/x-python",
   "name": "python",
   "nbconvert_exporter": "python",
   "pygments_lexer": "ipython3",
   "version": "3.7.10"
  }
 },
 "nbformat": 4,
 "nbformat_minor": 5
}
